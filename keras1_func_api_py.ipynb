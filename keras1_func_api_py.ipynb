{
  "nbformat": 4,
  "nbformat_minor": 0,
  "metadata": {
    "colab": {
      "name": "keras1_func_api.py",
      "provenance": [],
      "private_outputs": true,
      "authorship_tag": "ABX9TyPSZ+H0S9Wz69ia6cb0xNTQ",
      "include_colab_link": true
    },
    "kernelspec": {
      "name": "python3",
      "display_name": "Python 3"
    }
  },
  "cells": [
    {
      "cell_type": "markdown",
      "metadata": {
        "id": "view-in-github",
        "colab_type": "text"
      },
      "source": [
        "<a href=\"https://colab.research.google.com/github/sezerblt/data01/blob/master/keras1_func_api_py.ipynb\" target=\"_parent\"><img src=\"https://colab.research.google.com/assets/colab-badge.svg\" alt=\"Open In Colab\"/></a>"
      ]
    },
    {
      "cell_type": "code",
      "metadata": {
        "id": "CATc4CtpRqFB",
        "colab_type": "code",
        "colab": {}
      },
      "source": [
        "from tensorflow import keras\n",
        "from tensorflow.keras import layers\n",
        "\n",
        "inputs = keras.Input(shape=(32, 32, 3), name=\"img\")\n",
        "print(\"1-\",inputs)\n",
        "\n",
        "x1 = layers.Conv2D(32, 3, activation=\"relu\")(inputs)\n",
        "print(\"\\nx1    :\",x1)\n",
        "x2 = layers.Conv2D(64, 3, activation=\"relu\")(x1)\n",
        "print(\"x2    :\",x2)\n",
        "block_1_output = layers.MaxPooling2D(3)(x2)\n",
        "print(\"block1:\",block_1_output)\n",
        "\n",
        "x3 = layers.Conv2D(64, 3, activation=\"relu\", padding=\"same\")(block_1_output)\n",
        "print(\"\\nx3    :\",x3)\n",
        "x4 = layers.Conv2D(64, 3, activation=\"relu\", padding=\"same\")(x3)\n",
        "print(\"x4    :\",x4)\n",
        "block_2_output = layers.add([x4,block_1_output])\n",
        "print(\"block2:\",block_2_output)\n",
        "\n",
        "x5 = layers.Conv2D(64, 3, activation=\"relu\", padding=\"same\")(block_2_output)\n",
        "print(\"\\nx5   :\",x5)\n",
        "x6 = layers.Conv2D(64, 3, activation=\"relu\", padding=\"same\")(x5)\n",
        "print(\"x6   :\",x6)\n",
        "block_3_output = layers.add([x6,block_2_output])\n",
        "print(\"block3:\",block_3_output)\n",
        "\n",
        "x7 = layers.Conv2D(64, 3, activation=\"relu\")(block_3_output)\n",
        "print(\"\\nx7   :\",x7)\n",
        "x8 = layers.GlobalAveragePooling2D()(x7)\n",
        "print(\"x8   :\",x8)\n",
        "\n",
        "dense = layers.Dense(256, activation=\"relu\")(x8)\n",
        "print(\"\\ndense:\",dense)\n",
        "dropout = layers.Dropout(0.5)(dense)\n",
        "print(\"dropout:\",dropout)\n",
        "outputs=layers.Dense((10))(dropout)\n",
        "print(\"outputs:\",outputs)\n",
        "\n",
        "model = keras.Model(inputs, outputs, name=\"toy_resnet\")\n",
        "print(model)\n",
        "model.summary()\n",
        "keras.utils.plot_model(model, \"mini_resnet.png\", show_shapes=True)"
      ],
      "execution_count": 0,
      "outputs": []
    },
    {
      "cell_type": "code",
      "metadata": {
        "id": "ddqU_zSVqv2d",
        "colab_type": "code",
        "colab": {}
      },
      "source": [
        "(x_train, y_train), (x_test, y_test) = keras.datasets.cifar10.load_data()\n",
        "print(x_train.shape,\"---\",y_train.shape)\n",
        "print(x_test.shape,\"---\",y_test.shape)\n",
        "\n",
        "x_Train = x_train.astype(\"float32\") / 255.0\n",
        "x_Test =  x_test.astype(\"float32\") / 255.0\n",
        "y_Train = keras.utils.to_categorical(y_train,10)\n",
        "y_Test  = keras.utils.to_categorical(y_test,10)\n",
        "print(y_Train.shape,\" *** \",y_Test.shape)\n",
        "\n",
        "model.compile(\n",
        "    optimizer=keras.optimizers.RMSprop(1e-3),\n",
        "    loss=keras.losses.CategoricalCrossentropy(from_logits=True),\n",
        "    metrics=[\"acc\"],\n",
        ")\n",
        "\n",
        "model.fit(x_Train[:1000], y_Train[:1000], batch_size=64, epochs=10, validation_split=0.2)"
      ],
      "execution_count": 0,
      "outputs": []
    },
    {
      "cell_type": "code",
      "metadata": {
        "id": "P8MGywTxyeDM",
        "colab_type": "code",
        "colab": {}
      },
      "source": [
        "shared_embedding = layers.Embedding(1000, 128)\n",
        "text_input_a = keras.Input(shape=(None,), dtype=\"int32\")\n",
        "text_input_b = keras.Input(shape=(None,), dtype=\"int32\")\n",
        "encoded_input_a = shared_embedding(text_input_a)\n",
        "encoded_input_b = shared_embedding(text_input_b)\n",
        "print(encoded_input_b)"
      ],
      "execution_count": 0,
      "outputs": []
    },
    {
      "cell_type": "code",
      "metadata": {
        "id": "YA1AKVN7zLSr",
        "colab_type": "code",
        "colab": {}
      },
      "source": [
        "import tensorflow\n",
        "import numpy as np\n",
        "vgg19 = tensorflow.keras.applications.VGG19()\n",
        "features_list = [layer.output for layer in vgg19.layers]\n",
        "feat_extraction_model = keras.Model(inputs=vgg19.input, outputs=features_list)\n",
        "img = np.random.random((1, 224, 224, 3)).astype(\"float32\")\n",
        "extracted_features = feat_extraction_model(img)\n",
        "print(extracted_features)\n"
      ],
      "execution_count": 0,
      "outputs": []
    },
    {
      "cell_type": "code",
      "metadata": {
        "id": "jt-30Icn4are",
        "colab_type": "code",
        "colab": {}
      },
      "source": [
        "import tensorflow as tf\n",
        "class CustomDense(layers.Layer):\n",
        "  def __init__(self, units=32):\n",
        "    super(CustomDense, self).__init__()\n",
        "    self.units = units\n",
        "\n",
        "    def build(self, input_shape):\n",
        "      self.w = self.add_weight(\n",
        "            shape=(input_shape[-1], self.units),\n",
        "            initializer=\"random_normal\",\n",
        "            trainable=True,\n",
        "        )\n",
        "      self.b = self.add_weight(\n",
        "            shape=(self.units,), initializer=\"random_normal\", trainable=True\n",
        "        )\n",
        "\n",
        "    def call(self, inputs):\n",
        "      return tf.matmul(inputs, self.w) + self.b\n",
        "      \n",
        "    def get_config(self):\n",
        "      return {\"units\": self.units}\n",
        "\n",
        "\n",
        "inputs = keras.Input((4,))\n",
        "outputs = CustomDense(10)(inputs)\n",
        "\n",
        "model = keras.Model(inputs, outputs)\n",
        "config = model.get_config()\n",
        "\n",
        "new_model = keras.Model.from_config(config, custom_objects={\"CustomDense\": CustomDense})"
      ],
      "execution_count": 0,
      "outputs": []
    }
  ]
}