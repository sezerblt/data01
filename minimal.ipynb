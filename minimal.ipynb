{
  "nbformat": 4,
  "nbformat_minor": 0,
  "metadata": {
    "colab": {
      "name": "minimal.ipynb",
      "provenance": [],
      "private_outputs": true,
      "authorship_tag": "ABX9TyN/Uy7AVlfe9KFgEjKk+SFN",
      "include_colab_link": true
    },
    "kernelspec": {
      "name": "python3",
      "display_name": "Python 3"
    }
  },
  "cells": [
    {
      "cell_type": "markdown",
      "metadata": {
        "id": "view-in-github",
        "colab_type": "text"
      },
      "source": [
        "<a href=\"https://colab.research.google.com/github/sezerblt/data01/blob/master/minimal.ipynb\" target=\"_parent\"><img src=\"https://colab.research.google.com/assets/colab-badge.svg\" alt=\"Open In Colab\"/></a>"
      ]
    },
    {
      "cell_type": "code",
      "metadata": {
        "id": "iJHRDIOk90BC",
        "colab_type": "code",
        "colab": {}
      },
      "source": [
        "import numpy as np\n",
        "import tensorflow as tf\n",
        "\n",
        "\n",
        "W=tf.Variable([.3], dtype=tf.float32)\n",
        "b=tf.Variable([-.3],dtype=tf.float32)\n",
        "x=tf.placeholder(tf.float32)\n",
        "\n",
        "linear_model=W*x+b\n",
        "y=tf.placeholder(tf.float32)\n",
        "loss = tf.reduce_sum( tf.square(linear_model-y) )\n",
        "optimizer=tf.train.GradientDescentOptimizer(0.01)\n",
        "train = optimizer.minimize(loss)\n",
        "x_train=[1,2,3,4]\n",
        "y_train=[0.-1,-2,-3]\n",
        "\n",
        "init = tf.global_variables_initializer()\n",
        "sess=tf.Session()\n",
        "sess.run(init)\n",
        "for i in range(100):\n",
        "  sess.run (train,{x:x_train,y:y_train} )\n",
        "\n",
        "curr_W,curr_b,curr_loss = sess.run([w,b,loss],{x:x_train,y:y_train})\n",
        "print(\"%s  %s  %s\".format(curr_W,curr_b,curr_loss))"
      ],
      "execution_count": 0,
      "outputs": []
    },
    {
      "cell_type": "code",
      "metadata": {
        "colab_type": "code",
        "id": "E8fj0Lg27yJJ",
        "colab": {}
      },
      "source": [
        "import tensorflow as tf\n",
        "\n",
        "box1=tf.constant(5.0,dtype=tf.float32)\n",
        "box2=tf.constant(6.0,dtype=tf.float32)\n",
        "print(box1,\"\\n\",box2)\n",
        "\n",
        "box3=tf.add(box1,box2)\n",
        "sess=tf.Session()\n",
        "print(\"box1 value:\",sess.run(box1))\n",
        "print(\"box2 value:\",sess.run(box2))\n",
        "print(\"box1+box2 value:\",sess.run(box3))\n",
        "\n",
        "val1=tf.placeholder(dtype=tf.float32)\n",
        "val2=tf.placeholder(dtype=tf.float32)\n",
        "val3=tf.placeholder(tf.float32)\n",
        "add_val=val1+val2+val3\n",
        "mult_val=val1*val2\n",
        "\n",
        "print(\"add process with dict:\",sess.run(add_val, {val1:5,val2:10,val3:2} ))\n",
        "print(\"add process with list:\",sess.run(add_val, {val1:[1,2,3],val2:[10,20,30],val3:[3,6,7]} ))\n",
        "print(\"add process with tuple:\",sess.run(add_val, {val1:(2,3),val2:(20,30),val3:(200,300)} ))\n",
        "print(\"mult process with dict:\", sess.run(mult_val, {val1:5,val2:10} ))\n",
        "print(\"mult process with list:\", sess.run(mult_val, {val1:[1,2,3],val2:[10,20,30]} ))\n",
        "print(\"mult process with tuple:\",sess.run(mult_val, {val1:(2,3),val2:(20,30)} ))\n",
        "print(\"-------------\")\n",
        "\n",
        "init=tf.global_variables_initializer()\n",
        "sess.run(init)\n",
        "\n",
        "w =tf.Variable([0.3],dtype=tf.float32)\n",
        "b =tf.Variable([0.1],dtype=tf.float32)\n",
        "x =tf.placeholder(tf.float32)\n",
        "linear_model=(w*x)+b\n",
        "#print(sess.run( linear_model,{x:[1,2,3]}) )\n",
        "print(\"----------------\")\n",
        "\n",
        "y=tf.placeholder(tf.float32)\n",
        "sq_delta=tf.square(linear_model-y)\n",
        "loss=tf.reduce_sum(sq_delta)\n",
        "#print(sess.run(loss,{x:[1,2,3],y:[0,5,10]}))\n",
        "print(\"-------------------------------\")\n",
        "\n",
        "optimizer = tf.train.GradientDescentOptimizer(0.01)\n",
        "train = optimizer.minimize(loss)\n",
        "\n",
        "sess.run(init) # reset values to incorrect defaults.\n",
        "for i in range(1000):\n",
        "  sess.run(train, {x:[1,2,3,4], y:[0,-1,-2,-3]})\n",
        " \n",
        "print(sess.run([W, b]))\n",
        "\n",
        "\n",
        "\n"
      ],
      "execution_count": 0,
      "outputs": []
    }
  ]
}